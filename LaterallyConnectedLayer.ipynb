{
 "cells": [
  {
   "cell_type": "code",
   "execution_count": 2,
   "id": "e7e6d7e6",
   "metadata": {},
   "outputs": [
    {
     "data": {
      "text/html": [
       "<style>.container { width:80% !important; }</style>"
      ],
      "text/plain": [
       "<IPython.core.display.HTML object>"
      ]
     },
     "metadata": {},
     "output_type": "display_data"
    }
   ],
   "source": [
    "from IPython.core.display import display, HTML\n",
    "display(HTML(\"<style>.container { width:80% !important; }</style>\"))"
   ]
  },
  {
   "cell_type": "code",
   "execution_count": 13,
   "id": "a889a853",
   "metadata": {},
   "outputs": [],
   "source": [
    "import torch\n",
    "import torch.nn.functional as F\n",
    "import torchvision.models as M\n",
    "from torch.utils.data import DataLoader\n",
    "import numpy as np\n",
    "from sklearn.metrics import silhouette_score, silhouette_samples, rand_score, adjusted_rand_score\n",
    "from sklearn.cluster import KMeans\n",
    "import matplotlib.cm as cm\n",
    "import matplotlib.pyplot as plt\n",
    "from tqdm.notebook import tqdm\n",
    "from IPython import display\n",
    "\n",
    "from lateral_connections import LateralModel, VggModel, CustomImageDataset\n",
    "\n",
    "model_path = 'models/VGG19_normalized_avg_pool_pytorch'\n",
    "vm = VggModel(model_path, torch.device('cuda'), important_layers=[None])\n",
    "\n",
    "vm.net\n",
    "\n",
    "\n",
    "vgg = M.vgg19(pretrained=True,progress=True)\n"
   ]
  },
  {
   "cell_type": "code",
   "execution_count": 2,
   "id": "5893d2a7",
   "metadata": {},
   "outputs": [
    {
     "name": "stdout",
     "output_type": "stream",
     "text": [
      "2\n"
     ]
    },
    {
     "data": {
      "image/png": "[encoded data removed]",
      "text/plain": [
       "<Figure size 432x288 with 1 Axes>"
      ]
     },
     "metadata": {
      "needs_background": "light"
     },
     "output_type": "display_data"
    }
   ],
   "source": [
    "import PIL as pillow\n",
    "import torchvision\n",
    "from torchvision.datasets import MNIST\n",
    "\n",
    "def transform_pillow_to_torch(x):\n",
    "    x = x.resize((224,224), resample=pillow.Image.BILINEAR).convert('RGB')\n",
    "    return torchvision.transforms.ToTensor()(x)\n",
    "\n",
    "def plt_t(x):\n",
    "    plt.imshow(torch.swapaxes(x,0,2))\n",
    "\n",
    "ds = MNIST('images/mnist/', download=True, transform=transform_pillow_to_torch)\n",
    "\n",
    "#vgg.classifier[-1]\n",
    "\n",
    "img, label = ds[np.random.choice(len(ds))]\n",
    "img, label = ds[5]\n",
    "print(label)\n",
    "\n",
    "plt_t(img)"
   ]
  },
  {
   "cell_type": "code",
   "execution_count": 24,
   "id": "73edb046",
   "metadata": {},
   "outputs": [
    {
     "data": {
      "text/plain": [
       "(60000, 10000)"
      ]
     },
     "execution_count": 24,
     "metadata": {},
     "output_type": "execute_result"
    }
   ],
   "source": [
    "\n",
    "\n",
    "training_data = MNIST('images/mnist/', train=True, download=True, transform=transform_pillow_to_torch)\n",
    "test_data = MNIST('images/mnist/', train=False, download=True, transform=transform_pillow_to_torch)\n",
    "\n",
    "train_dataloader = DataLoader(training_data, batch_size=256, shuffle=True)\n",
    "test_dataloader = DataLoader(test_data, batch_size=256, shuffle=True)\n",
    "\n",
    "(len(training_data), len(test_data))"
   ]
  },
  {
   "cell_type": "code",
   "execution_count": 25,
   "id": "c0399ebe",
   "metadata": {},
   "outputs": [
    {
     "data": {
      "text/plain": [
       "VGG(\n",
       "  (features): Sequential(\n",
       "    (0): Conv2d(3, 64, kernel_size=(3, 3), stride=(1, 1), padding=(1, 1))\n",
       "    (1): ReLU(inplace=True)\n",
       "    (2): Conv2d(64, 64, kernel_size=(3, 3), stride=(1, 1), padding=(1, 1))\n",
       "    (3): ReLU(inplace=True)\n",
       "    (4): MaxPool2d(kernel_size=2, stride=2, padding=0, dilation=1, ceil_mode=False)\n",
       "    (5): Conv2d(64, 128, kernel_size=(3, 3), stride=(1, 1), padding=(1, 1))\n",
       "    (6): ReLU(inplace=True)\n",
       "    (7): Conv2d(128, 128, kernel_size=(3, 3), stride=(1, 1), padding=(1, 1))\n",
       "    (8): ReLU(inplace=True)\n",
       "    (9): MaxPool2d(kernel_size=2, stride=2, padding=0, dilation=1, ceil_mode=False)\n",
       "    (10): Conv2d(128, 256, kernel_size=(3, 3), stride=(1, 1), padding=(1, 1))\n",
       "    (11): ReLU(inplace=True)\n",
       "    (12): Conv2d(256, 256, kernel_size=(3, 3), stride=(1, 1), padding=(1, 1))\n",
       "    (13): ReLU(inplace=True)\n",
       "    (14): Conv2d(256, 256, kernel_size=(3, 3), stride=(1, 1), padding=(1, 1))\n",
       "    (15): ReLU(inplace=True)\n",
       "    (16): Conv2d(256, 256, kernel_size=(3, 3), stride=(1, 1), padding=(1, 1))\n",
       "    (17): ReLU(inplace=True)\n",
       "    (18): MaxPool2d(kernel_size=2, stride=2, padding=0, dilation=1, ceil_mode=False)\n",
       "    (19): Conv2d(256, 512, kernel_size=(3, 3), stride=(1, 1), padding=(1, 1))\n",
       "    (20): ReLU(inplace=True)\n",
       "    (21): Conv2d(512, 512, kernel_size=(3, 3), stride=(1, 1), padding=(1, 1))\n",
       "    (22): ReLU(inplace=True)\n",
       "    (23): Conv2d(512, 512, kernel_size=(3, 3), stride=(1, 1), padding=(1, 1))\n",
       "    (24): ReLU(inplace=True)\n",
       "    (25): Conv2d(512, 512, kernel_size=(3, 3), stride=(1, 1), padding=(1, 1))\n",
       "    (26): ReLU(inplace=True)\n",
       "    (27): MaxPool2d(kernel_size=2, stride=2, padding=0, dilation=1, ceil_mode=False)\n",
       "    (28): Conv2d(512, 512, kernel_size=(3, 3), stride=(1, 1), padding=(1, 1))\n",
       "    (29): ReLU(inplace=True)\n",
       "    (30): Conv2d(512, 512, kernel_size=(3, 3), stride=(1, 1), padding=(1, 1))\n",
       "    (31): ReLU(inplace=True)\n",
       "    (32): Conv2d(512, 512, kernel_size=(3, 3), stride=(1, 1), padding=(1, 1))\n",
       "    (33): ReLU(inplace=True)\n",
       "    (34): Conv2d(512, 512, kernel_size=(3, 3), stride=(1, 1), padding=(1, 1))\n",
       "    (35): ReLU(inplace=True)\n",
       "    (36): MaxPool2d(kernel_size=2, stride=2, padding=0, dilation=1, ceil_mode=False)\n",
       "  )\n",
       "  (avgpool): AdaptiveAvgPool2d(output_size=(7, 7))\n",
       "  (classifier): Sequential(\n",
       "    (0): Linear(in_features=25088, out_features=4096, bias=True)\n",
       "    (1): ReLU(inplace=True)\n",
       "    (2): Dropout(p=0.5, inplace=False)\n",
       "    (3): Linear(in_features=4096, out_features=4096, bias=True)\n",
       "    (4): ReLU(inplace=True)\n",
       "    (5): Dropout(p=0.5, inplace=False)\n",
       "    (6): Linear(in_features=4096, out_features=1000, bias=True)\n",
       "  )\n",
       ")"
      ]
     },
     "execution_count": 25,
     "metadata": {},
     "output_type": "execute_result"
    }
   ],
   "source": [
    "vgg1 = M.vgg19(pretrained=True, progress=True)\n",
    "vgg2 = M.vgg19(pretrained=True, progress=True)\n",
    "vgg3 = M.vgg19(pretrained=True, progress=True)\n",
    "\n",
    "vgg1.classifier = vgg1.classifier[:2]\n",
    "vgg2.classifier = vgg2.classifier[:5]\n",
    "\n",
    "vgg1.eval()\n",
    "vgg2.eval()\n",
    "vgg3.eval()"
   ]
  },
  {
   "cell_type": "code",
   "execution_count": 20,
   "id": "ff90460f",
   "metadata": {
    "scrolled": true
   },
   "outputs": [
    {
     "name": "stdout",
     "output_type": "stream",
     "text": [
      "512\n"
     ]
    }
   ],
   "source": [
    "print(train_dataloader.batch_size)\n",
    "\n",
    "with torch.no_grad():\n",
    "    #for i, data in tqdm(enumerate(train_dataloader, 0), total=len(train_dataloader)):\n",
    "    inputs, labels = next(iter(train_dataloader))\n",
    "    prediction = vgg1(inputs)\n",
    "    \n",
    "        \n"
   ]
  },
  {
   "cell_type": "code",
   "execution_count": 21,
   "id": "dd155c02",
   "metadata": {},
   "outputs": [
    {
     "data": {
      "text/plain": [
       "tensor([[0.2492, 0.0000, 0.0000,  ..., 0.0000, 0.0000, 0.0000],\n",
       "        [0.7658, 0.0000, 0.0000,  ..., 0.0000, 0.0000, 0.0000],\n",
       "        [0.9832, 0.0000, 0.0000,  ..., 0.0000, 0.0000, 0.9182],\n",
       "        ...,\n",
       "        [1.3047, 0.4236, 0.0000,  ..., 0.0000, 0.0000, 0.2319],\n",
       "        [0.0968, 0.7739, 0.0000,  ..., 0.0000, 0.0000, 0.0532],\n",
       "        [0.0000, 0.0000, 0.0000,  ..., 0.0000, 0.1351, 0.0381]])"
      ]
     },
     "execution_count": 21,
     "metadata": {},
     "output_type": "execute_result"
    }
   ],
   "source": [
    "prediction"
   ]
  },
  {
   "cell_type": "markdown",
   "id": "2c9a9945",
   "metadata": {},
   "source": [
    "## (Adjusted) Rand Index for KMeans Clustering of VGG19 Output"
   ]
  },
  {
   "cell_type": "code",
   "execution_count": 27,
   "id": "438d9e27",
   "metadata": {},
   "outputs": [
    {
     "name": "stdout",
     "output_type": "stream",
     "text": [
      "[VGG1] Rand Index:\t\t 0.911\n",
      "[VGG1] Adjusted Rand Index:\t 0.536\n",
      "==========================================================\n",
      "[VGG2] Rand Index:\t\t 0.88\n",
      "[VGG2] Adjusted Rand Index:\t 0.358\n",
      "==========================================================\n",
      "[VGG3] Rand Index:\t\t 0.846\n",
      "[VGG3] Adjusted Rand Index:\t 0.21\n"
     ]
    }
   ],
   "source": [
    "inputs, labels = next(iter(train_dataloader))\n",
    "\n",
    "with torch.no_grad():\n",
    "    for i, network in enumerate([vgg1, vgg2, vgg3]):\n",
    "        prediction = network(inputs)\n",
    "\n",
    "        clusterer = KMeans(n_clusters=np.unique(labels).shape[0], random_state=42)\n",
    "        cluster_labels = clusterer.fit_predict(prediction)\n",
    "\n",
    "        if i != 0:\n",
    "            print('==========================================================')\n",
    "        print(f\"[VGG{i+1}] Rand Index:\\t\\t\", round(rand_score(labels, cluster_labels),3))\n",
    "        print(f\"[VGG{i+1}] Adjusted Rand Index:\\t\", round(adjusted_rand_score(labels, cluster_labels),3))\n",
    "\n",
    "None"
   ]
  },
  {
   "cell_type": "markdown",
   "id": "16a240ec",
   "metadata": {},
   "source": [
    "## Silhouette Plot for MNIST/VGG19"
   ]
  },
  {
   "cell_type": "code",
   "execution_count": 23,
   "id": "3e53a932",
   "metadata": {},
   "outputs": [
    {
     "data": {
      "image/png": "[encoded data removed]",
      "text/plain": [
       "<Figure size 720x432 with 1 Axes>"
      ]
     },
     "metadata": {
      "needs_background": "light"
     },
     "output_type": "display_data"
    }
   ],
   "source": [
    "classes = np.unique(labels)\n",
    "num_classes = classes.shape[0]\n",
    "\n",
    "\n",
    "clusterer = KMeans(n_clusters=num_classes, random_state=42)\n",
    "cluster_labels = clusterer.fit_predict(prediction)\n",
    "\n",
    "fig, ax = plt.subplots()\n",
    "fig.set_size_inches(10, 6)\n",
    "\n",
    "ax.set_xlim([-0.1, 1])\n",
    "ax.set_ylim([0, len(prediction) + (num_classes + 1) * 10])\n",
    "\n",
    "silhouette_avg = silhouette_score(prediction, cluster_labels)\n",
    "sample_silhouette_values = silhouette_samples(prediction, cluster_labels)\n",
    "\n",
    "y_lower=10\n",
    "for i in sorted(classes):\n",
    "    ith_c_sil_vals = sample_silhouette_values[cluster_labels == i]\n",
    "    ith_c_sil_vals.sort()\n",
    "    \n",
    "    size_cluster_i = ith_c_sil_vals.shape[0]\n",
    "    y_upper = y_lower + size_cluster_i\n",
    "    \n",
    "    color = cm.nipy_spectral(float(i) / num_classes)\n",
    "    \n",
    "    ax.fill_betweenx(\n",
    "        np.arange(y_lower, y_upper),\n",
    "        0,\n",
    "        ith_c_sil_vals,\n",
    "        facecolor=color,\n",
    "        edgecolor=color,\n",
    "        alpha=0.7\n",
    "    )\n",
    "    \n",
    "    ax.text(-0.05, y_lower+0.5*size_cluster_i, str(i))\n",
    "    \n",
    "    y_lower = y_upper+10\n",
    "    \n",
    "    ax.axvline(x=silhouette_avg, color=\"red\", linestyle=\"--\")\n",
    "    \n",
    "    ax.set_yticks([])\n",
    "    ax.set_xticks([-0.1, 0, 0.2, 0.4, 0.6, 0.8, 1.0])\n",
    "    \n",
    "plt.show()"
   ]
  },
  {
   "cell_type": "code",
   "execution_count": null,
   "id": "6b26a1ef",
   "metadata": {},
   "outputs": [],
   "source": []
  }
 ],
 "metadata": {
  "kernelspec": {
   "display_name": "Python 3 (ipykernel)",
   "language": "python",
   "name": "python3"
  },
  "language_info": {
   "codemirror_mode": {
    "name": "ipython",
    "version": 3
   },
   "file_extension": ".py",
   "mimetype": "text/x-python",
   "name": "python",
   "nbconvert_exporter": "python",
   "pygments_lexer": "ipython3",
   "version": "3.8.10"
  }
 },
 "nbformat": 4,
 "nbformat_minor": 5
}
