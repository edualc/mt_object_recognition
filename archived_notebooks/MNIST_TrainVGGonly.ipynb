{
 "cells": [
  {
   "cell_type": "code",
   "execution_count": 1,
   "id": "d4de7608",
   "metadata": {},
   "outputs": [
    {
     "data": {
      "text/plain": [
       "\"\\ndef transform_pillow_to_torch(x):\\n    #x = x.resize((224,224), resample=pillow.Image.BILINEAR).convert('RGB')\\n    #return torchvision.transforms.ToTensor()(x)\\n    return torchvision.transforms.ToTensor()(torchvision.transforms.Grayscale(num_output_channels=3)(x))\\n\\ndef plt_t(x):\\n    plt.imshow(torch.swapaxes(x,0,2))\\n\\nmnist = MNIST('images/mnist/', download=True, transform=transform_pillow_to_torch)\\nomniglot = Omniglot('images/omniglot/', download=True, transform=transform_pillow_to_torch)\\n\""
      ]
     },
     "execution_count": 1,
     "metadata": {},
     "output_type": "execute_result"
    }
   ],
   "source": [
    "import torch\n",
    "import torch.nn.functional as F\n",
    "import torchvision.models as M\n",
    "from torch.utils.data import DataLoader\n",
    "import numpy as np\n",
    "from sklearn.metrics import silhouette_score, silhouette_samples, rand_score, adjusted_rand_score\n",
    "from sklearn.cluster import KMeans\n",
    "import matplotlib.cm as cm\n",
    "import matplotlib.pyplot as plt\n",
    "from tqdm.notebook import tqdm\n",
    "from IPython import display\n",
    "\n",
    "from lateral_connections import LateralModel, VggModel, CustomImageDataset\n",
    "\n",
    "import PIL as pillow\n",
    "import torchvision\n",
    "from torchvision.datasets import MNIST, Omniglot\n",
    "\n",
    "\"\"\"\n",
    "def transform_pillow_to_torch(x):\n",
    "    #x = x.resize((224,224), resample=pillow.Image.BILINEAR).convert('RGB')\n",
    "    #return torchvision.transforms.ToTensor()(x)\n",
    "    return torchvision.transforms.ToTensor()(torchvision.transforms.Grayscale(num_output_channels=3)(x))\n",
    "\n",
    "def plt_t(x):\n",
    "    plt.imshow(torch.swapaxes(x,0,2))\n",
    "\n",
    "mnist = MNIST('images/mnist/', download=True, transform=transform_pillow_to_torch)\n",
    "omniglot = Omniglot('images/omniglot/', download=True, transform=transform_pillow_to_torch)\n",
    "\"\"\""
   ]
  },
  {
   "cell_type": "code",
   "execution_count": 24,
   "id": "01983f5b",
   "metadata": {},
   "outputs": [
    {
     "name": "stdout",
     "output_type": "stream",
     "text": [
      "Dataset MNIST\n",
      "    Number of datapoints: 60000\n",
      "    Root location: images/mnist/\n",
      "    Split: Train\n",
      "    StandardTransform\n",
      "Transform: <function transform_data at 0x7f4319628280>\n",
      "<torch.utils.data.dataloader.DataLoader object at 0x7f43195f9e80>\n",
      "torch.Size([1, 28, 28])\n"
     ]
    }
   ],
   "source": [
    "device = torch.device('cuda')\n",
    "\n",
    "dataset = 'mnist'\n",
    "\n",
    "def transform_data(x):\n",
    "    x = torchvision.transforms.ToTensor()(x)\n",
    "    return x\n",
    "\n",
    "def transform_corrupt(x):\n",
    "    x = torchvision.transforms.ToTensor()(x)\n",
    "    x[:, :x.shape[1]//2, :] = torch.median(x)\n",
    "    return x\n",
    "\n",
    "if dataset == 'mnist':\n",
    "    num_classes = 10\n",
    "    train_data = torchvision.datasets.MNIST('images/mnist/', train=True, transform=transform_data, download=True)\n",
    "    test_data = torchvision.datasets.MNIST('images/mnist/', train=False, transform=transform_corrupt, download=True)\n",
    "\n",
    "elif dataset == 'omniglot':\n",
    "    num_classes = 964\n",
    "    train_data = torchvision.datasets.Omniglot('images/mnist/', background=True, transform=transform_data, download=True)\n",
    "    test_data = torchvision.datasets.Omniglot('images/mnist/', background=False, transform=transform_corrupt, download=True)\n",
    "    \n",
    "print(train_data)\n",
    "    \n",
    "loaders = {\n",
    "    'train': torch.utils.data.DataLoader(train_data, batch_size=128, shuffle=True, num_workers=1),\n",
    "    'test': torch.utils.data.DataLoader(test_data, batch_size=128, shuffle=True, num_workers=1)\n",
    "}\n",
    "\n",
    "print(loaders['train'])\n",
    "print(train_data[0][0].shape)"
   ]
  },
  {
   "cell_type": "code",
   "execution_count": 23,
   "id": "503d43f6",
   "metadata": {},
   "outputs": [
    {
     "data": {
      "image/png": "[encoded data removed]",
      "text/plain": [
       "<Figure size 432x288 with 1 Axes>"
      ]
     },
     "metadata": {
      "needs_background": "light"
     },
     "output_type": "display_data"
    },
    {
     "data": {
      "text/plain": [
       "<matplotlib.image.AxesImage at 0x7f43195f9ee0>"
      ]
     },
     "execution_count": 23,
     "metadata": {},
     "output_type": "execute_result"
    },
    {
     "data": {
      "image/png": "[encoded data removed]",
      "text/plain": [
       "<Figure size 432x288 with 1 Axes>"
      ]
     },
     "metadata": {
      "needs_background": "light"
     },
     "output_type": "display_data"
    }
   ],
   "source": [
    "img, label = train_data[0]\n",
    "plt.imshow(img[0,...], cmap='gray')\n",
    "plt.show()\n",
    "\n",
    "img2 = torch.clone(img)\n",
    "img2[:, :img2.shape[1]//2, :] = torch.median(img2)\n",
    "plt.imshow(img2[0,...], cmap='gray')"
   ]
  },
  {
   "cell_type": "code",
   "execution_count": 25,
   "id": "6f6aca82",
   "metadata": {},
   "outputs": [
    {
     "name": "stdout",
     "output_type": "stream",
     "text": [
      "SimpleCNN(\n",
      "  (conv1): Sequential(\n",
      "    (0): Conv2d(1, 16, kernel_size=(5, 5), stride=(1, 1), padding=(2, 2))\n",
      "    (1): ReLU()\n",
      "    (2): MaxPool2d(kernel_size=2, stride=2, padding=0, dilation=1, ceil_mode=False)\n",
      "  )\n",
      "  (conv2): Sequential(\n",
      "    (0): Conv2d(16, 32, kernel_size=(5, 5), stride=(1, 1), padding=(2, 2))\n",
      "    (1): ReLU()\n",
      "    (2): MaxPool2d(kernel_size=2, stride=2, padding=0, dilation=1, ceil_mode=False)\n",
      "  )\n",
      "  (out): Linear(in_features=1568, out_features=10, bias=True)\n",
      ")\n"
     ]
    }
   ],
   "source": [
    "import torch.nn as nn\n",
    "from torch import optim\n",
    "\n",
    "class SimpleCNN(nn.Module):\n",
    "    def __init__(self, num_classes):\n",
    "        super(SimpleCNN, self).__init__()\n",
    "        \n",
    "        self.conv1 = nn.Sequential(         \n",
    "            nn.Conv2d(\n",
    "                in_channels=1,              \n",
    "                out_channels=16,            \n",
    "                kernel_size=5,              \n",
    "                stride=1,                   \n",
    "                padding=2,                  \n",
    "            ),                              \n",
    "            nn.ReLU(),                      \n",
    "            nn.MaxPool2d(kernel_size=2),    \n",
    "        )\n",
    "        \n",
    "        self.conv2 = nn.Sequential(         \n",
    "            nn.Conv2d(16, 32, 5, 1, 2),     \n",
    "            nn.ReLU(),                      \n",
    "            nn.MaxPool2d(2),                \n",
    "        )\n",
    "        \n",
    "        # TODO: Fix for datasets\n",
    "        if num_classes == 10:\n",
    "            self.out = nn.Linear(32 * 7 * 7, num_classes)\n",
    "        else:\n",
    "            self.out = nn.Linear(32 * 26 * 26, num_classes)\n",
    "        \n",
    "    def forward(self, x):\n",
    "        x = self.conv1(x)\n",
    "        x = self.conv2(x)\n",
    "        # flatten the output of conv2 to (batch_size, 32 * 7 * 7)\n",
    "        x = x.view(x.size(0), -1)\n",
    "        output = self.out(x)\n",
    "        return output, x    # return x for visualization\n",
    "    \n",
    "model = SimpleCNN(num_classes)\n",
    "loss_func = nn.CrossEntropyLoss() \n",
    "optimizer = optim.Adam(model.parameters(), lr = 0.01)  \n",
    "model.to(device)\n",
    "\n",
    "print(model)"
   ]
  },
  {
   "cell_type": "code",
   "execution_count": 26,
   "id": "ab275d3b",
   "metadata": {
    "scrolled": false
   },
   "outputs": [
    {
     "data": {
      "application/vnd.jupyter.widget-view+json": {
       "model_id": "",
       "version_major": 2,
       "version_minor": 0
      },
      "text/plain": [
       "  0%|          | 0/5 [00:00<?, ?it/s]"
      ]
     },
     "metadata": {},
     "output_type": "display_data"
    },
    {
     "data": {
      "application/vnd.jupyter.widget-view+json": {
       "model_id": "6203c04af1f94f7f8cc590b9460abf79",
       "version_major": 2,
       "version_minor": 0
      },
      "text/plain": [
       "  0%|          | 0/469 [00:00<?, ?it/s]"
      ]
     },
     "metadata": {},
     "output_type": "display_data"
    },
    {
     "name": "stdout",
     "output_type": "stream",
     "text": [
      "Epoch  1\tLoss: 0.0661\tAccuracy: 0.9375\n"
     ]
    },
    {
     "data": {
      "application/vnd.jupyter.widget-view+json": {
       "model_id": "1ccd99138ca849ae8b82b32f00735972",
       "version_major": 2,
       "version_minor": 0
      },
      "text/plain": [
       "  0%|          | 0/469 [00:00<?, ?it/s]"
      ]
     },
     "metadata": {},
     "output_type": "display_data"
    },
    {
     "name": "stdout",
     "output_type": "stream",
     "text": [
      "Epoch  2\tLoss: 0.0039\tAccuracy: 0.9789\n"
     ]
    },
    {
     "data": {
      "application/vnd.jupyter.widget-view+json": {
       "model_id": "df6af9553bf6443183cc23bd32641b51",
       "version_major": 2,
       "version_minor": 0
      },
      "text/plain": [
       "  0%|          | 0/469 [00:00<?, ?it/s]"
      ]
     },
     "metadata": {},
     "output_type": "display_data"
    },
    {
     "name": "stdout",
     "output_type": "stream",
     "text": [
      "Epoch  3\tLoss: 0.0028\tAccuracy: 0.9815\n"
     ]
    },
    {
     "data": {
      "application/vnd.jupyter.widget-view+json": {
       "model_id": "e26a02152c6e422ab946bd8553d98161",
       "version_major": 2,
       "version_minor": 0
      },
      "text/plain": [
       "  0%|          | 0/469 [00:00<?, ?it/s]"
      ]
     },
     "metadata": {},
     "output_type": "display_data"
    },
    {
     "name": "stdout",
     "output_type": "stream",
     "text": [
      "Epoch  4\tLoss: 0.0024\tAccuracy: 0.9822\n"
     ]
    },
    {
     "data": {
      "application/vnd.jupyter.widget-view+json": {
       "model_id": "368aa81f869749dea25ae226c9628e8a",
       "version_major": 2,
       "version_minor": 0
      },
      "text/plain": [
       "  0%|          | 0/469 [00:00<?, ?it/s]"
      ]
     },
     "metadata": {},
     "output_type": "display_data"
    },
    {
     "name": "stdout",
     "output_type": "stream",
     "text": [
      "Epoch  5\tLoss: 0.0025\tAccuracy: 0.9840\n"
     ]
    }
   ],
   "source": [
    "num_epochs = 5\n",
    "\n",
    "def train(num_epochs, model, loaders, loss_func):\n",
    "    model.train()\n",
    "    \n",
    "    total_step = len(loaders['train'])\n",
    "    \n",
    "    for epoch in tqdm(range(num_epochs), leave=False):\n",
    "        \n",
    "        correct = 0\n",
    "        total = 0\n",
    "        total_loss = 0\n",
    "        \n",
    "        \n",
    "        for i, (images, labels) in tqdm(enumerate(loaders['train'], 0), total=len(loaders['train'])):\n",
    "            images = images.to(device)\n",
    "            labels = labels.to(device)\n",
    "            \n",
    "            output = model(images)[0]\n",
    "            \n",
    "            pred_y = torch.max(output, 1)[1].data.squeeze()             \n",
    "            correct += (pred_y == labels).sum().item()\n",
    "            total += labels.size(0)\n",
    "            \n",
    "            loss = loss_func(output, labels)\n",
    "            total_loss += (loss.item() / total)\n",
    "            \n",
    "            optimizer.zero_grad()\n",
    "            loss.backward()\n",
    "            optimizer.step()\n",
    "            \n",
    "        print(f\"Epoch {epoch+1:2d}\\tLoss: {round(total_loss,4):1.4f}\\tAccuracy: {round(correct/total,4):1.4f}\")\n",
    "            \n",
    "            \n",
    "train(num_epochs, model, loaders, loss_func)"
   ]
  },
  {
   "cell_type": "code",
   "execution_count": 27,
   "id": "0359d88d",
   "metadata": {},
   "outputs": [
    {
     "data": {
      "application/vnd.jupyter.widget-view+json": {
       "model_id": "eb495405d9a84f12bfc2b50e0d8c1896",
       "version_major": 2,
       "version_minor": 0
      },
      "text/plain": [
       "  0%|          | 0/469 [00:00<?, ?it/s]"
      ]
     },
     "metadata": {},
     "output_type": "display_data"
    },
    {
     "name": "stdout",
     "output_type": "stream",
     "text": [
      "Train Accuracy is  0.9872\n"
     ]
    },
    {
     "data": {
      "application/vnd.jupyter.widget-view+json": {
       "model_id": "bc2d2acaab67417abdfd3bcab84a5864",
       "version_major": 2,
       "version_minor": 0
      },
      "text/plain": [
       "  0%|          | 0/79 [00:00<?, ?it/s]"
      ]
     },
     "metadata": {},
     "output_type": "display_data"
    },
    {
     "name": "stdout",
     "output_type": "stream",
     "text": [
      "Test Accuracy is  0.3924\n"
     ]
    }
   ],
   "source": [
    "def test(eval_mode='test'):\n",
    "    model.eval()\n",
    "    \n",
    "    with torch.no_grad():\n",
    "        correct = 0\n",
    "        total = 0\n",
    "        \n",
    "        for images, labels in tqdm(loaders[eval_mode]):\n",
    "            images = images.to(device)\n",
    "            labels = labels.to(device)\n",
    "            \n",
    "            test_output, last_layer = model(images)\n",
    "            pred_y = torch.max(test_output, 1)[1].data.squeeze()\n",
    "            \n",
    "            total += labels.size(0)\n",
    "            correct += (pred_y == labels).sum().item()\n",
    "            \n",
    "        accuracy = correct / total\n",
    "        if eval_mode == 'test':\n",
    "            print('Test Accuracy is ', round(accuracy,4))\n",
    "        elif eval_mode == 'train':\n",
    "            print('Train Accuracy is ', round(accuracy,4))\n",
    "        \n",
    "test('train')\n",
    "test()"
   ]
  }
 ],
 "metadata": {
  "kernelspec": {
   "display_name": "Python 3 (ipykernel)",
   "language": "python",
   "name": "python3"
  },
  "language_info": {
   "codemirror_mode": {
    "name": "ipython",
    "version": 3
   },
   "file_extension": ".py",
   "mimetype": "text/x-python",
   "name": "python",
   "nbconvert_exporter": "python",
   "pygments_lexer": "ipython3",
   "version": "3.8.10"
  }
 },
 "nbformat": 4,
 "nbformat_minor": 5
}
