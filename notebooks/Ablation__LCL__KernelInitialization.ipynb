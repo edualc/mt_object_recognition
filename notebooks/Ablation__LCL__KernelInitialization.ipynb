{
 "cells": [
  {
   "cell_type": "code",
   "execution_count": 2,
   "id": "89212794",
   "metadata": {},
   "outputs": [],
   "source": [
    "import os\n",
    "os.chdir('../')"
   ]
  },
  {
   "cell_type": "code",
   "execution_count": 3,
   "id": "db24c94d",
   "metadata": {},
   "outputs": [
    {
     "data": {
      "text/html": [
       "<style>.container { width:100% !important; }</style>"
      ],
      "text/plain": [
       "<IPython.core.display.HTML object>"
      ]
     },
     "metadata": {},
     "output_type": "display_data"
    }
   ],
   "source": [
    "from IPython.display import display, HTML\n",
    "display(HTML(\"<style>.container { width:100% !important; }</style>\"))"
   ]
  },
  {
   "cell_type": "code",
   "execution_count": 6,
   "id": "3d7a99dc",
   "metadata": {},
   "outputs": [
    {
     "data": {
      "text/plain": [
       "TinyCNN(\n",
       "  (conv): Conv2d(1, 10, kernel_size=(3, 3), stride=(1, 1), padding=(1, 1))\n",
       "  (conv_act): Tanh()\n",
       "  (maxpool): AdaptiveMaxPool2d(output_size=(14, 14))\n",
       "  (fc1): Linear(in_features=1960, out_features=100, bias=True)\n",
       "  (fc1_act): ReLU()\n",
       "  (fc2): Linear(in_features=100, out_features=10, bias=True)\n",
       "  (loss_fn): CrossEntropyLoss()\n",
       ")"
      ]
     },
     "execution_count": 6,
     "metadata": {},
     "output_type": "execute_result"
    }
   ],
   "source": [
    "from lateral_connections.model_factory import load_model_by_key\n",
    "\n",
    "model_path = 'models/tiny_cnn/TinyCNN_2022-06-15_215423__it20000_e4.pt'\n",
    "tiny_cnn_model = load_model_by_key('tiny_cnn', model_path=model_path)\n",
    "tiny_cnn_model"
   ]
  },
  {
   "cell_type": "code",
   "execution_count": null,
   "id": "d06a474c",
   "metadata": {},
   "outputs": [],
   "source": []
  }
 ],
 "metadata": {
  "kernelspec": {
   "display_name": "Python 3 (ipykernel)",
   "language": "python",
   "name": "python3"
  },
  "language_info": {
   "codemirror_mode": {
    "name": "ipython",
    "version": 3
   },
   "file_extension": ".py",
   "mimetype": "text/x-python",
   "name": "python",
   "nbconvert_exporter": "python",
   "pygments_lexer": "ipython3",
   "version": "3.8.10"
  }
 },
 "nbformat": 4,
 "nbformat_minor": 5
}
