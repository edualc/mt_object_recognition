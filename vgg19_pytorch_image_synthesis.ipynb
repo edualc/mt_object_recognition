{
 "cells": [
  {
   "cell_type": "code",
   "execution_count": 1,
   "id": "23e47bb1",
   "metadata": {},
   "outputs": [],
   "source": [
    "%matplotlib inline\n",
    "\n",
    "import os\n",
    "import glob\n",
    "import sys\n",
    "\n",
    "import torch\n",
    "import matplotlib.pyplot as plt\n",
    "import numpy as np\n",
    "import cv2\n",
    "from PIL import Image\n",
    "\n",
    "base_dir = os.getcwd()\n",
    "sys.path.append(base_dir)\n",
    "im_dir = os.path.join(base_dir, 'images/')\n",
    "\n",
    "imagenet_mean = np.array([ 0.48501961,  0.45795686, 0.40760392 ]) # Imagenet Mean (RGB)"
   ]
  },
  {
   "cell_type": "code",
   "execution_count": null,
   "id": "7a3a4536",
   "metadata": {},
   "outputs": [],
   "source": [
    "sys.path.append(os.path.join(base_dir, 'texture_synthesis_pytorch'))\n",
    "\n",
    "import utilities\n",
    "import model\n",
    "import optimize\n",
    "\n",
    "import importlib\n",
    "importlib.reload(utilities)\n",
    "importlib.reload(model)\n",
    "importlib.reload(optimize)\n",
    "\n",
    "\n",
    "import collections.abc as container_abcs\n",
    "\n",
    "from argparse import Namespace\n",
    "args = Namespace(**{\n",
    "    'checkpoint_every': 1,\n",
    "    'n_steps': 100,\n",
    "    'max_iter': 5,\n",
    "    'lr': 1.0\n",
    "})\n",
    "\n",
    "device = torch.device('cuda' if torch.cuda.is_available() else 'cpu')\n",
    "\n",
    "target_image = utilities.preprocess_image(utilities.load_image(os.path.join(im_dir, 'pebbles.jpg')))\n",
    "\n",
    "net = model.Model(os.path.join(base_dir, 'models', 'VGG19_normalized_avg_pool_pytorch'), device, target_image)\n",
    "\n",
    "optimizer = optimize.Optimizer(net, args)\n",
    "result = optimizer.optimize()\n",
    "\n",
    "final_image = utilities.postprocess_image(result, utilities.load_image(os.path.join(im_dir, 'pebbles.jpg')))\n",
    "final_image.save('output.png')"
   ]
  },
  {
   "cell_type": "code",
   "execution_count": null,
   "id": "b36d511f",
   "metadata": {},
   "outputs": [],
   "source": [
    "sys.path.append(os.path.join(base_dir, 'texture_synthesis_pytorch'))\n",
    "\n",
    "import utilities\n",
    "import model\n",
    "import optimize\n",
    "\n",
    "import importlib\n",
    "importlib.reload(utilities)\n",
    "importlib.reload(model)\n",
    "importlib.reload(optimize)\n",
    "\n",
    "lehl_img = utilities.load_image(os.path.join(im_dir, 'lehl_face.jpg'))\n",
    "lehl_pre = utilities.preprocess_image(lehl_img)\n",
    "\n",
    "device = torch.device('cuda' if torch.cuda.is_available() else 'cpu')\n",
    "\n",
    "target_image = utilities.preprocess_image(utilities.load_image(os.path.join(im_dir, 'circuit_board.jpg')))\n",
    "\n",
    "net = model.Model(os.path.join(base_dir, 'models', 'VGG19_normalized_avg_pool_pytorch'), device, target_image)\n",
    "\n",
    "optimizer = optimize.Optimizer(net, args, start_image=lehl_pre)\n",
    "result = optimizer.optimize()\n",
    "\n",
    "final_image = utilities.postprocess_image(result, utilities.load_image(os.path.join(im_dir, 'circuit_board.jpg')))\n",
    "final_image.save('output_lehl_face.png')\n"
   ]
  },
  {
   "cell_type": "code",
   "execution_count": null,
   "id": "ed9d2939",
   "metadata": {},
   "outputs": [],
   "source": [
    "utilities.postprocess_image(lehl_pre, utilities.load_image(os.path.join(im_dir, 'circuit_board.jpg'))).save('lehl_face_initial.jpg')\n",
    "\n",
    "for i, img in enumerate(optimizer.opt_images):\n",
    "    img.save(f\"lehl_circuit_{i}.jpg\")"
   ]
  },
  {
   "cell_type": "code",
   "execution_count": null,
   "id": "bd190d87",
   "metadata": {},
   "outputs": [],
   "source": [
    "(lehl_pre.min(), lehl_pre.max(), target_image.min(), target_image.max())"
   ]
  },
  {
   "cell_type": "code",
   "execution_count": null,
   "id": "0fc1824e",
   "metadata": {},
   "outputs": [],
   "source": [
    "inv_reparam_func = optimizer.get_inv_reparam_func(net.target_image)\n",
    "dn_lehl = inv_reparam_func(lehl_pre.clamp(float(target_image.min()), float(target_image.max())))\n",
    "rnd_pre = torch.randn_like(target_image)\n",
    "dn_rand = inv_reparam_func(rnd_pre.clamp(float(target_image.min()), float(target_image.max())))\n",
    "\n",
    "\n",
    "print('lehl', dn_lehl.min(), dn_lehl.max(), dn_lehl.mean(), dn_lehl.median(), dn_lehl.std())\n",
    "print('random', dn_rand.min(), dn_rand.max(), dn_rand.mean(), dn_rand.median(), dn_rand.std())\n",
    "\n",
    "print('target', target_image.min(), target_image.max(), target_image.mean(), target_image.median(), target_image.std())\n",
    "print('lehl_pre', lehl_pre.min(), lehl_pre.max(), lehl_pre.mean(), lehl_pre.median(), lehl_pre.std())\n",
    "print('rnd_pre', rnd_pre.min(), rnd_pre.max(), rnd_pre.mean(), rnd_pre.median(), rnd_pre.std())\n",
    "\n",
    "lehl_pre2 = torch.div(lehl_pre, 2)\n",
    "print('lehl_pre', lehl_pre2.min(), lehl_pre2.max(), lehl_pre2.mean(), lehl_pre2.median(), lehl_pre2.std())\n",
    "\n",
    "dn_lehl2 = inv_reparam_func(lehl_pre2)\n",
    "print('lehl', dn_lehl2.min(), dn_lehl2.max(), dn_lehl2.mean(), dn_lehl2.median(), dn_lehl2.std())"
   ]
  }
 ],
 "metadata": {
  "kernelspec": {
   "display_name": "Python 3 (ipykernel)",
   "language": "python",
   "name": "python3"
  },
  "language_info": {
   "codemirror_mode": {
    "name": "ipython",
    "version": 3
   },
   "file_extension": ".py",
   "mimetype": "text/x-python",
   "name": "python",
   "nbconvert_exporter": "python",
   "pygments_lexer": "ipython3",
   "version": "3.7.12"
  }
 },
 "nbformat": 4,
 "nbformat_minor": 5
}
