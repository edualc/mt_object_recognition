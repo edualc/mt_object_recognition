{
 "cells": [
  {
   "cell_type": "code",
   "execution_count": 236,
   "id": "5eac6469",
   "metadata": {},
   "outputs": [
    {
     "name": "stdout",
     "output_type": "stream",
     "text": [
      "Vs\n",
      " [[-1  1 -1 -1 -1  1 -1 -1 -1  1 -1 -1 -1 -1  1]\n",
      " [-1  1  1  1 -1  1 -1  1  1  1  1  1  1  1  1]]\n",
      "W\n",
      " [[0 0 0 0 0 0 0 0 0 0 0 0 0 0 0]\n",
      " [0 0 0 0 0 0 0 0 0 0 0 0 0 0 0]\n",
      " [0 0 0 0 0 0 0 0 0 0 0 0 0 0 0]\n",
      " [0 0 0 0 0 0 0 0 0 0 0 0 0 0 0]\n",
      " [0 0 0 0 0 0 0 0 0 0 0 0 0 0 0]\n",
      " [0 0 0 0 0 0 0 0 0 0 0 0 0 0 0]\n",
      " [0 0 0 0 0 0 0 0 0 0 0 0 0 0 0]\n",
      " [0 0 0 0 0 0 0 0 0 0 0 0 0 0 0]\n",
      " [0 0 0 0 0 0 0 0 0 0 0 0 0 0 0]\n",
      " [0 0 0 0 0 0 0 0 0 0 0 0 0 0 0]\n",
      " [0 0 0 0 0 0 0 0 0 0 0 0 0 0 0]\n",
      " [0 0 0 0 0 0 0 0 0 0 0 0 0 0 0]\n",
      " [0 0 0 0 0 0 0 0 0 0 0 0 0 0 0]\n",
      " [0 0 0 0 0 0 0 0 0 0 0 0 0 0 0]\n",
      " [0 0 0 0 0 0 0 0 0 0 0 0 0 0 0]]\n"
     ]
    }
   ],
   "source": [
    "import numpy as np\n",
    "np.random.seed(42)\n",
    "\n",
    "num_states = 2\n",
    "state_size = 15\n",
    "\n",
    "# states\n",
    "Vs = np.random.randint(0, 2, (num_states, state_size), dtype=int)\n",
    "Vs = 2 * Vs - 1\n",
    "\n",
    "print(\"Vs\\n\", Vs)\n",
    "\n",
    "W = np.zeros((state_size, state_size), dtype=int)\n",
    "print(\"W\\n\", W)"
   ]
  },
  {
   "cell_type": "code",
   "execution_count": 237,
   "id": "8c8244d8",
   "metadata": {},
   "outputs": [
    {
     "name": "stdout",
     "output_type": "stream",
     "text": [
      "W trained\n",
      " [[ 0 -2  0  0  2 -2  2  0  0 -2  0  0  0  0 -2]\n",
      " [-2  0  0  0 -2  2 -2  0  0  2  0  0  0  0  2]\n",
      " [ 0  0  0  2  0  0  0  2  2  0  2  2  2  2  0]\n",
      " [ 0  0  2  0  0  0  0  2  2  0  2  2  2  2  0]\n",
      " [ 2 -2  0  0  0 -2  2  0  0 -2  0  0  0  0 -2]\n",
      " [-2  2  0  0 -2  0 -2  0  0  2  0  0  0  0  2]\n",
      " [ 2 -2  0  0  2 -2  0  0  0 -2  0  0  0  0 -2]\n",
      " [ 0  0  2  2  0  0  0  0  2  0  2  2  2  2  0]\n",
      " [ 0  0  2  2  0  0  0  2  0  0  2  2  2  2  0]\n",
      " [-2  2  0  0 -2  2 -2  0  0  0  0  0  0  0  2]\n",
      " [ 0  0  2  2  0  0  0  2  2  0  0  2  2  2  0]\n",
      " [ 0  0  2  2  0  0  0  2  2  0  2  0  2  2  0]\n",
      " [ 0  0  2  2  0  0  0  2  2  0  2  2  0  2  0]\n",
      " [ 0  0  2  2  0  0  0  2  2  0  2  2  2  0  0]\n",
      " [-2  2  0  0 -2  2 -2  0  0  2  0  0  0  0  0]]\n"
     ]
    }
   ],
   "source": [
    "for i in np.arange(state_size):\n",
    "    for j in np.arange(state_size):\n",
    "        # Identity is zero, no self-influence\n",
    "        #\n",
    "        if i == j:\n",
    "            continue\n",
    "            \n",
    "        # Only calculate upper triangular matrix and copy\n",
    "        # already calculated values in the lower triangle\n",
    "        #\n",
    "        if i > j:\n",
    "            W[i,j] = W[j,i]\n",
    "            continue\n",
    "        \n",
    "        W[i,j] = 0\n",
    "        \n",
    "        for s in np.arange(num_states):\n",
    "            W[i,j] += Vs[s,i]*Vs[s,j]\n",
    "\n",
    "print(\"W trained\\n\", W)"
   ]
  },
  {
   "cell_type": "code",
   "execution_count": 240,
   "id": "48cfa05d",
   "metadata": {},
   "outputs": [
    {
     "name": "stdout",
     "output_type": "stream",
     "text": [
      "v\n",
      " [-1 -1 -1 -1 -1  1  1 -1  1  1  1  1 -1  1 -1]\n",
      "[-1 -1 -1 -1 -1  1  1 -1  1  1  1  1 -1  1 -1] -> [ 1  1  1  1  1 -1  1  1  1 -1  1  1  1  1 -1] \n",
      "Hopfield Energy:\t-6.0\n",
      "[ 1  1  1  1  1 -1  1  1  1 -1  1  1  1  1 -1] -> [ 1 -1  1  1  1 -1  1  1  1 -1  1  1  1  1 -1] \n",
      "Hopfield Energy:\t-84.0\n",
      "[ 1 -1  1  1  1 -1  1  1  1 -1  1  1  1  1 -1] -> [ 1 -1  1  1  1 -1  1  1  1 -1  1  1  1  1 -1] *\n",
      "Hopfield Energy:\t-98.0\n",
      "[ 1 -1  1  1  1 -1  1  1  1 -1  1  1  1  1 -1] -> [ 1 -1  1  1  1 -1  1  1  1 -1  1  1  1  1 -1] *\n",
      "Hopfield Energy:\t-98.0\n",
      "[ 1 -1  1  1  1 -1  1  1  1 -1  1  1  1  1 -1] -> [ 1 -1  1  1  1 -1  1  1  1 -1  1  1  1  1 -1] *\n",
      "Hopfield Energy:\t-98.0\n"
     ]
    }
   ],
   "source": [
    "v = 2 * np.random.randint(0, 2, (state_size)) - 1\n",
    "th = np.zeros(state_size)\n",
    "\n",
    "print(\"v\\n\", v)\n",
    "\n",
    "num_iterations = 5\n",
    "\n",
    "for _ in range(num_iterations):\n",
    "    v_old = np.copy(v)\n",
    "    v_in = np.zeros((state_size), dtype=int)\n",
    "\n",
    "    energy_sum_a = 0\n",
    "    energy_sum_b = 0\n",
    "    \n",
    "    for i in np.arange(state_size):\n",
    "        for j in np.arange(state_size):\n",
    "            v_in[i] += W[j,i] * v[j]\n",
    "            \n",
    "            energy_sum_a += W[i,j] * v[i] * v[j]\n",
    "            \n",
    "        energy_sum_b += th[i] * v[i]\n",
    "            \n",
    "        if v_in[i] >= th[i]:\n",
    "            v[i] = 1\n",
    "        else:\n",
    "            v[i] = -1\n",
    "\n",
    "            \n",
    "    print(f\"{v_old} -> {v} {'*' if (v_old == v).all() else ''}\")\n",
    "    e = -(1/2) * energy_sum_a + energy_sum_b\n",
    "    print(f\"Hopfield Energy:\\t{e}\")"
   ]
  },
  {
   "cell_type": "code",
   "execution_count": null,
   "id": "6318185e",
   "metadata": {},
   "outputs": [],
   "source": []
  },
  {
   "cell_type": "code",
   "execution_count": null,
   "id": "516a8da0",
   "metadata": {},
   "outputs": [],
   "source": []
  }
 ],
 "metadata": {
  "kernelspec": {
   "display_name": "Python 3 (ipykernel)",
   "language": "python",
   "name": "python3"
  },
  "language_info": {
   "codemirror_mode": {
    "name": "ipython",
    "version": 3
   },
   "file_extension": ".py",
   "mimetype": "text/x-python",
   "name": "python",
   "nbconvert_exporter": "python",
   "pygments_lexer": "ipython3",
   "version": "3.8.10"
  }
 },
 "nbformat": 4,
 "nbformat_minor": 5
}
