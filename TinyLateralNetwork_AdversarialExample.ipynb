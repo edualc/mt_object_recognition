{
 "cells": [
  {
   "cell_type": "code",
   "execution_count": 1,
   "id": "06f7bce2",
   "metadata": {},
   "outputs": [
    {
     "data": {
      "text/html": [
       "<style>.container { width:100% !important; }</style>"
      ],
      "text/plain": [
       "<IPython.core.display.HTML object>"
      ]
     },
     "metadata": {},
     "output_type": "display_data"
    }
   ],
   "source": [
    "from IPython.display import display, HTML\n",
    "display(HTML(\"<style>.container { width:100% !important; }</style>\"))"
   ]
  },
  {
   "cell_type": "code",
   "execution_count": 2,
   "id": "df4cc24d",
   "metadata": {},
   "outputs": [],
   "source": [
    "import torch\n",
    "import torch.nn as nn\n",
    "\n",
    "import torch.nn.functional as F\n",
    "from torch import optim\n",
    "from torchvision.datasets import MNIST\n",
    "import torchvision.transforms as transforms\n",
    "\n",
    "import numpy as np\n",
    "\n",
    "import matplotlib.pyplot as plt\n",
    "from tqdm.auto import tqdm\n",
    "\n",
    "from collections import OrderedDict\n",
    "\n",
    "from lateral_connections import LateralModel, VggModel\n",
    "from lateral_connections import VggWithLCL\n",
    "from lateral_connections import MNISTCDataset\n",
    "from lateral_connections.loaders import get_loaders, load_mnistc\n",
    "from lateral_connections.layers import LaterallyConnectedLayer, LaterallyConnectedLayer2\n",
    "from lateral_connections.torch_utils import *\n",
    "\n",
    "import wandb\n",
    "import datetime\n",
    "\n",
    "DO_WANDB = True"
   ]
  },
  {
   "cell_type": "code",
   "execution_count": 3,
   "id": "c542de76",
   "metadata": {},
   "outputs": [],
   "source": [
    "config = {\n",
    "    'num_classes': 10,\n",
    "    'learning_rate': 3e-3,\n",
    "    'num_multiplex': 3,\n",
    "    'batch_size': 10,\n",
    "    'num_epochs': 5,\n",
    "    'lcl_alpha': 3e-3,\n",
    "    'lcl_eta': 0.05,\n",
    "    'lcl_theta': 0.2,\n",
    "    'lcl_iota': 0.2,\n",
    "    'lcl_distance': 2,\n",
    "    'conv_size': 8,\n",
    "    'num_noisy_iterations': 500\n",
    "}"
   ]
  },
  {
   "cell_type": "code",
   "execution_count": 4,
   "id": "9e1ec314",
   "metadata": {},
   "outputs": [
    {
     "name": "stderr",
     "output_type": "stream",
     "text": [
      "\u001b[34m\u001b[1mwandb\u001b[0m: Currently logged in as: \u001b[33mlehl\u001b[0m (use `wandb login --relogin` to force relogin)\n",
      "\u001b[34m\u001b[1mwandb\u001b[0m: \u001b[33mWARNING\u001b[0m If you're specifying your api key in code, ensure this code is not shared publically.\n",
      "\u001b[34m\u001b[1mwandb\u001b[0m: \u001b[33mWARNING\u001b[0m Consider setting the WANDB_API_KEY environment variable, or running `wandb login` from the command line.\n",
      "\u001b[34m\u001b[1mwandb\u001b[0m: Appending key for api.wandb.ai to your netrc file: /home/claude/.netrc\n"
     ]
    },
    {
     "data": {
      "text/plain": []
     },
     "execution_count": 4,
     "metadata": {},
     "output_type": "execute_result"
    }
   ],
   "source": [
    "base_name = datetime.datetime.now().strftime('%Y-%m-%d_%H%M%S')\n",
    "wandb_run_name = base_name\n",
    "wandb_group_name = 'TinyLCL_Debug'\n",
    "\n",
    "wandb.login(key='efd0a05b7bd26ed445bf073625a373b845fc9385')\n",
    "wandb.init(\n",
    "    project='MT_LateralConnections',\n",
    "    entity='lehl',\n",
    "    #group=wandb_group_name,\n",
    "    group='debug',\n",
    "    name=wandb_run_name,\n",
    "    config=config,\n",
    "    mode='disabled'\n",
    ")"
   ]
  },
  {
   "cell_type": "code",
   "execution_count": 5,
   "id": "d133aaa5",
   "metadata": {},
   "outputs": [],
   "source": [
    "def plot_kernels(model, plot_scale=3):\n",
    "    \n",
    "    if type(model.lcl) == LaterallyConnectedLayer:\n",
    "        kernel_data = model.lcl.K.cpu()\n",
    "    else:\n",
    "        kernel_data = model.lcl._kernel_to_compact(model.lcl.K.cpu())\n",
    "            \n",
    "    num_kernels = kernel_data.shape[0]\n",
    "    \n",
    "    fig, axs = plt.subplots(num_kernels, num_kernels, figsize=(plot_scale*num_kernels, plot_scale*num_kernels))\n",
    "\n",
    "    for x in tqdm(range(num_kernels)):\n",
    "        for y in range(num_kernels):\n",
    "            axs[x,y].imshow(kernel_data[x,y,...])\n",
    "            \n",
    "    plt.show()\n",
    "    plt.close()\n",
    "\n",
    "class TinyLateralNetwork(nn.Module):\n",
    "    def __init__(self, config):\n",
    "        super(TinyLateralNetwork, self).__init__()\n",
    "\n",
    "        self.device = torch.device('cuda' if torch.cuda.is_available() else 'cpu')\n",
    "        self.config = config\n",
    "        self.conv1 = nn.Conv2d(in_channels=1, out_channels=config['conv_size'], padding=1, kernel_size=(3,3))\n",
    "        self.relu1 = nn.Sigmoid()\n",
    "        self.maxpool = nn.AdaptiveMaxPool2d((14, 14))\n",
    "        self.lcl = LaterallyConnectedLayer(self.config['num_multiplex'], config['conv_size'], 14, 14,\n",
    "                              d=self.config['lcl_distance'],\n",
    "                              prd=self.config['lcl_distance'],\n",
    "                              disabled=False,\n",
    "                              alpha=self.config['lcl_alpha'],\n",
    "                              eta=self.config['lcl_eta'],\n",
    "                              theta=self.config['lcl_theta'],\n",
    "                              iota=self.config['lcl_iota'],\n",
    "                              use_scaling=False,\n",
    "                              random_k_change=False,\n",
    "                              random_multiplex_selection=False,\n",
    "                              gradient_learn_k=False,\n",
    "                              num_noisy_iterations=config['num_noisy_iterations'])\n",
    "        \n",
    "        self.fc1 = nn.Linear(in_features=config['conv_size']*14*14, out_features=100)\n",
    "        self.relu3 = nn.ReLU()\n",
    "        self.fc2 = nn.Linear(in_features=100, out_features=self.config['num_classes'])\n",
    "        \n",
    "        self.loss_fn = nn.CrossEntropyLoss()\n",
    "        self.optimizer = optim.SGD(self.parameters(), lr=self.config['learning_rate'], momentum=0.9, weight_decay=0.0005)\n",
    "        \n",
    "    def forward(self, x):\n",
    "        x = self.conv1(x)\n",
    "        x = self.relu1(x)\n",
    "        x = self.maxpool(x)\n",
    "        x = self.lcl(x)\n",
    "        x = torch.flatten(x, 1)\n",
    "        \n",
    "        x = self.fc1(x)\n",
    "        x = self.relu3(x)\n",
    "        x = self.fc2(x)\n",
    "        \n",
    "        return x\n",
    "    \n",
    "    def train_with_loader(self, train_loader, val_loader, test_loader=None, num_epochs=5):\n",
    "        total_params = sum(p.numel() for p in self.parameters())\n",
    "        print(f\"[INFO]: {total_params:,} total parameters.\")\n",
    "        total_trainable_params = sum(\n",
    "            p.numel() for p in self.parameters() if p.requires_grad)\n",
    "        print(f\"[INFO]: {total_trainable_params:,} trainable parameters.\")\n",
    "\n",
    "        self.train()\n",
    "        for epoch in range(num_epochs):\n",
    "            print(f\"[INFO]: Epoch {epoch} of {num_epochs}\")\n",
    "        \n",
    "            correct = 0\n",
    "            total = 0\n",
    "            total_loss = 0\n",
    "            counter = 0\n",
    "\n",
    "            agg_correct = 0\n",
    "            agg_total = 0\n",
    "            agg_loss = 0\n",
    "\n",
    "            # Training Loop\n",
    "            for i, (images, labels) in tqdm(enumerate(train_loader, 0), total=len(train_loader), desc='Training'):\n",
    "                counter += 1\n",
    "                \n",
    "                images = images.to(self.device)\n",
    "                labels = labels.to(self.device)\n",
    "\n",
    "                outputs = self(images)\n",
    "                loss = self.loss_fn(outputs, labels)\n",
    "                \n",
    "                self.optimizer.zero_grad()\n",
    "                loss.backward()\n",
    "                self.optimizer.step()\n",
    "\n",
    "                _, preds = torch.max(outputs, 1)\n",
    "        \n",
    "                correct += (preds == labels).sum().item()\n",
    "                total += labels.size(0)\n",
    "                total_loss += (loss.item() / labels.size(0))\n",
    "\n",
    "                current_iteration = epoch*len(train_loader) + i\n",
    "\n",
    "                if current_iteration > 0 and (current_iteration % 1250) == 0:\n",
    "                    #self.save(f\"models/vgg_with_lcl/{self.run_identifier}__it{current_iteration}_e{epoch}.pt\")\n",
    "                    val_acc, val_loss = self.test(val_loader)\n",
    "                    #self.train()\n",
    "                    log_dict = { 'val_loss': val_loss, 'val_acc': val_acc, 'iteration': current_iteration }\n",
    "\n",
    "                    if test_loader:\n",
    "                        test_acc, test_loss = self.test(test_loader)\n",
    "                        log_dict['test_acc'] = test_acc\n",
    "                        log_dict['test_loss'] = test_loss\n",
    "\n",
    "                    print(log_dict)\n",
    "                    wandb.log(log_dict, commit=False)\n",
    "\n",
    "                if (current_iteration % 250) == 0:\n",
    "                    print({ 'train_batch_loss': round(total_loss/250,4), 'train_batch_acc': round(correct/total,4), 'iteration': current_iteration })\n",
    "                    wandb.log({ 'train_batch_loss': round(total_loss/250,4), 'train_batch_acc': round(correct/total,4), 'iteration': current_iteration })\n",
    "                    \n",
    "                    agg_correct += correct\n",
    "                    agg_total += total\n",
    "                    agg_loss += total_loss\n",
    "\n",
    "                    correct = 0\n",
    "                    total = 0\n",
    "                    total_loss = 0\n",
    "                    counter = 0\n",
    "            \n",
    "            print({'epoch': epoch, 'iteration': current_iteration, 'train_loss': agg_loss/len(train_loader), 'train_acc': agg_correct/agg_total})\n",
    "            plot_kernels(self)\n",
    "            wandb.log({'epoch': epoch, 'iteration': current_iteration, 'train_loss': agg_loss/len(train_loader), 'train_acc': agg_correct/agg_total})\n",
    "            \n",
    "    def test(self, test_loader):\n",
    "        self.eval()\n",
    "\n",
    "        correct = 0\n",
    "        total = 0\n",
    "        total_loss = 0\n",
    "        counter = 0\n",
    "\n",
    "        # Evaluation Loop\n",
    "        for i, (images, labels) in tqdm(enumerate(test_loader, 0), total=len(test_loader), desc='Testing', leave=False):\n",
    "            counter += 1\n",
    "            images = images.to(self.device)\n",
    "            labels = labels.to(self.device)\n",
    "\n",
    "            outputs = self(images)\n",
    "            loss = self.loss_fn(outputs, labels)\n",
    "            \n",
    "            _, preds = torch.max(outputs, 1)\n",
    "    \n",
    "            correct += (preds == labels).sum().item()\n",
    "            total += labels.size(0)\n",
    "            total_loss += (loss.item() / labels.size(0))\n",
    "\n",
    "        total_loss /= counter\n",
    "        acc = correct / total\n",
    "\n",
    "        return acc, total_loss"
   ]
  },
  {
   "cell_type": "code",
   "execution_count": 6,
   "id": "2aff6025",
   "metadata": {},
   "outputs": [
    {
     "data": {
      "text/plain": [
       "TinyLateralNetwork(\n",
       "  (conv1): Conv2d(1, 8, kernel_size=(3, 3), stride=(1, 1), padding=(1, 1))\n",
       "  (relu1): Sigmoid()\n",
       "  (maxpool): AdaptiveMaxPool2d(output_size=(14, 14))\n",
       "  (lcl): LaterallyConnectedLayer(3, (8, 14, 14), d=2, disabled=False, update=True)\n",
       "  (fc1): Linear(in_features=1568, out_features=100, bias=True)\n",
       "  (relu3): ReLU()\n",
       "  (fc2): Linear(in_features=100, out_features=10, bias=True)\n",
       "  (loss_fn): CrossEntropyLoss()\n",
       ")"
      ]
     },
     "execution_count": 6,
     "metadata": {},
     "output_type": "execute_result"
    }
   ],
   "source": [
    "model = TinyLateralNetwork(config)\n",
    "model.to(model.device)"
   ]
  },
  {
   "cell_type": "code",
   "execution_count": 7,
   "id": "93b4ea19",
   "metadata": {},
   "outputs": [],
   "source": [
    "def small_transform():\n",
    "    return transforms.Compose([\n",
    "        transforms.ToTensor(),\n",
    "        transforms.Normalize(mean=(0.5), std=(0.5))\n",
    "    ])\n",
    "\n",
    "dataset = MNIST('images/mnist/', train=True, transform=small_transform(), download=True)\n",
    "\n",
    "train_size = 50000\n",
    "eval_size = len(dataset) - train_size\n",
    "train_dataset, eval_dataset = torch.utils.data.random_split(dataset, [train_size, eval_size], generator=torch.Generator().manual_seed(42))\n",
    "\n",
    "train_loader = torch.utils.data.DataLoader(train_dataset, batch_size=config['batch_size'], shuffle=True, num_workers=1)\n",
    "val_loader = torch.utils.data.DataLoader(eval_dataset, batch_size=config['batch_size'], shuffle=False, num_workers=1)\n",
    "\n",
    "corrupt_dataset = load_mnistc('line')\n",
    "\n",
    "corrupt_loader = torch.utils.data.DataLoader(corrupt_dataset, batch_size=config['batch_size'], shuffle=False, num_workers=1)"
   ]
  },
  {
   "cell_type": "markdown",
   "id": "e00ac1df",
   "metadata": {},
   "source": [
    "## Adversarial Example"
   ]
  },
  {
   "cell_type": "code",
   "execution_count": 8,
   "id": "3a33ce46",
   "metadata": {},
   "outputs": [
    {
     "data": {
      "text/plain": [
       "<matplotlib.image.AxesImage at 0x7f3874461820>"
      ]
     },
     "execution_count": 8,
     "metadata": {},
     "output_type": "execute_result"
    },
    {
     "data": {
      "image/png": "[encoded data removed]",
      "text/plain": [
       "<Figure size 432x288 with 1 Axes>"
      ]
     },
     "metadata": {
      "needs_background": "light"
     },
     "output_type": "display_data"
    }
   ],
   "source": [
    "imgs, lbls = next(iter(train_loader))\n",
    "\n",
    "imgs.shape, lbls.shape\n",
    "\n",
    "labels = torch.arange(10)\n",
    "\n",
    "images = torch.zeros((10, 1, 28, 28))\n",
    "images[:, 0,0:14:3,:] = 1\n",
    "images[:, 0,-10:,0::4] = 1\n",
    "\n",
    "plt.imshow(images[0,0])"
   ]
  },
  {
   "cell_type": "code",
   "execution_count": 9,
   "id": "b2ba4bed",
   "metadata": {},
   "outputs": [
    {
     "name": "stdout",
     "output_type": "stream",
     "text": [
      "tensor([0, 0, 0, 0, 0, 1, 1, 1, 1, 1])\n"
     ]
    },
    {
     "data": {
      "image/png": "[encoded data removed]",
      "text/plain": [
       "<Figure size 432x288 with 1 Axes>"
      ]
     },
     "metadata": {
      "needs_background": "light"
     },
     "output_type": "display_data"
    },
    {
     "data": {
      "text/plain": [
       "<matplotlib.image.AxesImage at 0x7f38744bdbb0>"
      ]
     },
     "execution_count": 9,
     "metadata": {},
     "output_type": "execute_result"
    },
    {
     "data": {
      "image/png": "[encoded data removed]",
      "text/plain": [
       "<Figure size 432x288 with 1 Axes>"
      ]
     },
     "metadata": {
      "needs_background": "light"
     },
     "output_type": "display_data"
    }
   ],
   "source": [
    "images = torch.zeros((10, 1, 28, 28))\n",
    "images[:5, 0, :, 0::4] = 1.\n",
    "images[5:, 0, 0::3, :] = 1.\n",
    "\n",
    "labels = torch.LongTensor([0,0,0,0,0,1,1,1,1,1])\n",
    "print(labels)\n",
    "\n",
    "plt.imshow(images[0, 0])\n",
    "plt.show()\n",
    "plt.imshow(images[9, 0])"
   ]
  },
  {
   "cell_type": "code",
   "execution_count": 10,
   "id": "3d28df71",
   "metadata": {},
   "outputs": [
    {
     "data": {
      "text/plain": [
       "(tensor([0, 0, 0, 0, 0, 0, 0, 0, 0, 0]),\n",
       " tensor([1, 1, 1, 1, 1, 1, 1, 1, 1, 1]))"
      ]
     },
     "execution_count": 10,
     "metadata": {},
     "output_type": "execute_result"
    }
   ],
   "source": [
    "images_A = images[:5].repeat(2, 1, 1, 1)\n",
    "images_B = images[5:].repeat(2, 1, 1, 1)\n",
    "\n",
    "labels_A = labels[:5].repeat(2)\n",
    "labels_B = labels[5:].repeat(2)\n",
    "\n",
    "labels_A, labels_B"
   ]
  },
  {
   "cell_type": "code",
   "execution_count": 11,
   "id": "d95db33e",
   "metadata": {},
   "outputs": [
    {
     "data": {
      "image/png": "[encoded data removed]",
      "text/plain": [
       "<Figure size 432x288 with 1 Axes>"
      ]
     },
     "metadata": {
      "needs_background": "light"
     },
     "output_type": "display_data"
    },
    {
     "data": {
      "text/plain": [
       "<matplotlib.image.AxesImage at 0x7f3874343f10>"
      ]
     },
     "execution_count": 11,
     "metadata": {},
     "output_type": "execute_result"
    },
    {
     "data": {
      "image/png": "[encoded data removed]",
      "text/plain": [
       "<Figure size 432x288 with 1 Axes>"
      ]
     },
     "metadata": {
      "needs_background": "light"
     },
     "output_type": "display_data"
    }
   ],
   "source": [
    "images_test = torch.clone(images)\n",
    "\n",
    "images_test[:,:,10:18, 10:18] = 0\n",
    "plt.imshow(images_test[0,0].cpu())\n",
    "plt.show()\n",
    "plt.imshow(images_test[9,0].cpu())"
   ]
  },
  {
   "cell_type": "code",
   "execution_count": 12,
   "id": "a7762ac8",
   "metadata": {},
   "outputs": [
    {
     "data": {
      "text/plain": [
       "(2, 1250, 8)"
      ]
     },
     "execution_count": 12,
     "metadata": {},
     "output_type": "execute_result"
    }
   ],
   "source": [
    "model = TinyLateralNetwork(config)\n",
    "model.to(model.device)\n",
    "\n",
    "images = images.to(model.device)\n",
    "labels = labels.to(model.device)\n",
    "images_A = images_A.to(model.device)\n",
    "images_B = images_B.to(model.device)\n",
    "labels_A = labels_A.to(model.device)\n",
    "labels_B = labels_B.to(model.device)\n",
    "images_test = images_test.to(model.device)\n",
    "\n",
    "k_hist = np.zeros((2, 2500//2, config['conv_size']))\n",
    "k_hist.shape"
   ]
  },
  {
   "cell_type": "code",
   "execution_count": 13,
   "id": "258a17e7",
   "metadata": {},
   "outputs": [
    {
     "data": {
      "text/plain": [
       "Parameter containing:\n",
       "tensor([0.0500], device='cuda:0')"
      ]
     },
     "execution_count": 13,
     "metadata": {},
     "output_type": "execute_result"
    }
   ],
   "source": [
    "#model.lcl.eta = nn.Parameter(torch.zeros(1).to(model.device))\n",
    "model.lcl.eta"
   ]
  },
  {
   "cell_type": "code",
   "execution_count": null,
   "id": "96f7f4a2",
   "metadata": {},
   "outputs": [
    {
     "data": {
      "application/vnd.jupyter.widget-view+json": {
       "model_id": "c93f8b6ca7f0441c8fc75e714542b8af",
       "version_major": 2,
       "version_minor": 0
      },
      "text/plain": [
       "  0%|          | 0/250 [00:00<?, ?it/s]"
      ]
     },
     "metadata": {},
     "output_type": "display_data"
    }
   ],
   "source": [
    "for i in tqdm(range(250)):\n",
    "    if i % 2 == 0:\n",
    "        batch = images_A.to(model.device)\n",
    "        batch_labels = labels_A.to(model.device)\n",
    "    else:\n",
    "        batch = images_B.to(model.device)\n",
    "        batch_labels = labels_B.to(model.device)\n",
    "        \n",
    "    outputs = model(batch)\n",
    "    loss = model.loss_fn(outputs, batch_labels)\n",
    "    \n",
    "    model.optimizer.zero_grad()\n",
    "    loss.backward()\n",
    "    model.optimizer.step()\n",
    "    \n",
    "    if type(model.lcl) == LaterallyConnectedLayer:\n",
    "        if i%2 == 0:\n",
    "            k_hist[0,i//2,:] = model.lcl.current_k_indices[0,:,0].cpu().detach().numpy()\n",
    "        else:\n",
    "            k_hist[1,i//2,:] = model.lcl.current_k_indices[0,:,0].cpu().detach().numpy()"
   ]
  },
  {
   "cell_type": "code",
   "execution_count": null,
   "id": "142b1578",
   "metadata": {},
   "outputs": [],
   "source": [
    "s1, _, _, _ = model.conv1.weight.shape\n",
    "plot_scale = 3\n",
    "\n",
    "conv = model.conv1(images_test)\n",
    "conv = model.relu1(conv)\n",
    "conv = model.maxpool(conv)\n",
    "print(conv.shape)\n",
    "\n",
    "lcl_o = model.lcl(conv)\n",
    "\n",
    "fig, axs = plt.subplots(3, s1, figsize=(s1*plot_scale, 3*plot_scale))\n",
    "\n",
    "for x in range(s1):\n",
    "    axs[0,x].imshow(model.conv1.weight.cpu().detach().numpy()[x, 0, ...])\n",
    "    axs[1,x].imshow(conv.cpu().detach().numpy()[0, x, ...])\n",
    "    axs[2,x].imshow(lcl_o.cpu().detach().numpy()[0, x, ...])\n",
    "\n",
    "fig, axs = plt.subplots(2, s1, figsize=(s1*plot_scale, 2*plot_scale))\n",
    "\n",
    "for x in range(s1):\n",
    "    axs[0,x].imshow(conv.cpu().detach().numpy()[9, x, ...])\n",
    "    axs[1,x].imshow(lcl_o.cpu().detach().numpy()[9, x, ...])"
   ]
  },
  {
   "cell_type": "code",
   "execution_count": null,
   "id": "de7123c9",
   "metadata": {
    "scrolled": false
   },
   "outputs": [],
   "source": [
    "# Mit Noise trainiert\n",
    "plot_kernels(model)"
   ]
  },
  {
   "cell_type": "code",
   "execution_count": null,
   "id": "ed21ddec",
   "metadata": {},
   "outputs": [],
   "source": [
    "for i in tqdm(range(2250)):\n",
    "    if i % 2 == 0:\n",
    "        batch = images_A.to(model.device)\n",
    "        batch_labels = labels_A.to(model.device)\n",
    "    else:\n",
    "        batch = images_B.to(model.device)\n",
    "        batch_labels = labels_B.to(model.device)\n",
    "        \n",
    "    outputs = model(batch)\n",
    "    loss = model.loss_fn(outputs, batch_labels)\n",
    "    \n",
    "    model.optimizer.zero_grad()\n",
    "    loss.backward()\n",
    "    model.optimizer.step()\n",
    "    \n",
    "    if type(model.lcl) == LaterallyConnectedLayer:\n",
    "        if i%2 == 0:\n",
    "            k_hist[0,(250+i)//2,:] = model.lcl.current_k_indices[0,:,0].cpu().detach().numpy()\n",
    "        else:\n",
    "            k_hist[1,(250+i)//2,:] = model.lcl.current_k_indices[0,:,0].cpu().detach().numpy()\n"
   ]
  },
  {
   "cell_type": "code",
   "execution_count": null,
   "id": "1992d08d",
   "metadata": {},
   "outputs": [],
   "source": [
    "s1, _, _, _ = model.conv1.weight.shape\n",
    "plot_scale = 3\n",
    "\n",
    "conv = model.conv1(images_test)\n",
    "conv = model.relu1(conv)\n",
    "conv = model.maxpool(conv)\n",
    "print(conv.shape)\n",
    "\n",
    "lcl_o = model.lcl(conv)\n",
    "\n",
    "fig, axs = plt.subplots(3, s1, figsize=(s1*plot_scale, 3*plot_scale))\n",
    "\n",
    "for x in range(s1):\n",
    "    axs[0,x].imshow(model.conv1.weight.cpu().detach().numpy()[x, 0, ...])\n",
    "    axs[1,x].imshow(conv.cpu().detach().numpy()[0, x, ...])\n",
    "    axs[2,x].imshow(lcl_o.cpu().detach().numpy()[0, x, ...])\n",
    "\n",
    "fig, axs = plt.subplots(2, s1, figsize=(s1*plot_scale, 2*plot_scale))\n",
    "\n",
    "for x in range(s1):\n",
    "    axs[0,x].imshow(conv.cpu().detach().numpy()[9, x, ...])\n",
    "    axs[1,x].imshow(lcl_o.cpu().detach().numpy()[9, x, ...])"
   ]
  },
  {
   "cell_type": "code",
   "execution_count": null,
   "id": "564a06c9",
   "metadata": {
    "scrolled": false
   },
   "outputs": [],
   "source": [
    "# Erst mit noise trainiert, danach ohne\n",
    "plot_kernels(model)"
   ]
  },
  {
   "cell_type": "code",
   "execution_count": null,
   "id": "1f9ba26f",
   "metadata": {},
   "outputs": [],
   "source": [
    "plt.figure(figsize=(12,5))\n",
    "val, cnt = np.unique(k_hist[0, 125:], return_counts=True)\n",
    "plt.bar(val, cnt)\n",
    "val, cnt = np.unique(k_hist[1, 125:], return_counts=True)\n",
    "plt.bar(val, -cnt)\n",
    "plt.xlim(-1, 24)\n",
    "plt.ylabel('Number of Multiplex Selections')\n",
    "plt.xlabel('Multiplex Cell Number')\n",
    "plt.tight_layout()\n",
    "plt.legend(['Vertical Lines', 'Horizontal Lines'], loc='upper left')\n",
    "plt.show()"
   ]
  },
  {
   "cell_type": "code",
   "execution_count": null,
   "id": "a0295d24",
   "metadata": {},
   "outputs": [],
   "source": [
    "plt.figure(figsize=(12,5))\n",
    "val, cnt = np.unique(k_hist[0, -100:], return_counts=True)\n",
    "plt.bar(val, cnt)\n",
    "val, cnt = np.unique(k_hist[1, -100:], return_counts=True)\n",
    "plt.bar(val, -cnt)\n",
    "plt.xlim(-1, 24)\n",
    "plt.ylabel('Number of Multiplex Selections')\n",
    "plt.xlabel('Multiplex Cell Number')\n",
    "plt.tight_layout()\n",
    "plt.legend(['Vertical Lines', 'Horizontal Lines'], loc='upper left')\n",
    "plt.show()"
   ]
  },
  {
   "cell_type": "code",
   "execution_count": null,
   "id": "8da38cc7",
   "metadata": {},
   "outputs": [],
   "source": [
    "x = np.zeros((1250, 24))\n",
    "for i, row in enumerate(k_hist[0].astype(int)):\n",
    "    x[i, np.sort(row)] = 1\n",
    "    \n",
    "plt.figure(figsize=(100,1))\n",
    "plt.imshow(x.transpose())\n",
    "plt.show()\n",
    "\n",
    "x = np.zeros((1250, 24))\n",
    "for i, row in enumerate(k_hist[1].astype(int)):\n",
    "    x[i, np.sort(row)] = 1\n",
    "    \n",
    "plt.figure(figsize=(100,1))\n",
    "plt.imshow(x.transpose())\n",
    "plt.show()"
   ]
  },
  {
   "cell_type": "code",
   "execution_count": null,
   "id": "df2ba07c",
   "metadata": {},
   "outputs": [],
   "source": []
  }
 ],
 "metadata": {
  "kernelspec": {
   "display_name": "Python 3 (ipykernel)",
   "language": "python",
   "name": "python3"
  },
  "language_info": {
   "codemirror_mode": {
    "name": "ipython",
    "version": 3
   },
   "file_extension": ".py",
   "mimetype": "text/x-python",
   "name": "python",
   "nbconvert_exporter": "python",
   "pygments_lexer": "ipython3",
   "version": "3.8.10"
  }
 },
 "nbformat": 4,
 "nbformat_minor": 5
}
