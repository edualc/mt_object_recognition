{
 "cells": [
  {
   "cell_type": "code",
   "execution_count": 60,
   "id": "fd9e010b",
   "metadata": {},
   "outputs": [
    {
     "data": {
      "text/plain": [
       "<matplotlib.image.AxesImage at 0x7f1eafa40f10>"
      ]
     },
     "execution_count": 60,
     "metadata": {},
     "output_type": "execute_result"
    },
    {
     "data": {
      "image/png": "[encoded data removed]",
      "text/plain": [
       "<Figure size 432x288 with 1 Axes>"
      ]
     },
     "metadata": {
      "needs_background": "light"
     },
     "output_type": "display_data"
    }
   ],
   "source": [
    "import pickle\n",
    "import numpy as np\n",
    "import matplotlib.pyplot as plt\n",
    "\n",
    "def unpickle(file):\n",
    "    with open(file, 'rb') as fo:\n",
    "        d = pickle.load(fo, encoding='bytes')\n",
    "    return d\n",
    "\n",
    "def grayscale(data):\n",
    "    color_width = data.shape[1] // 3\n",
    "    red_data, green_data, blue_data = data[:, :1024], data[:, 1024:2048], data[:, 2048:]\n",
    "    \n",
    "    return 0.2989 * red_data + 0.5870 * green_data + 0.1140 * blue_data\n",
    "    \n",
    "cifar_batch = unpickle('data/cifar10/data_batch_1')\n",
    "data = cifar_batch[b'data']\n",
    "labels = cifar_batch[b'labels']\n",
    "\n",
    "gray_data = grayscale(data)\n",
    "\n",
    "imgA = gray_data[1,:].reshape((32,32))\n",
    "imgB = gray_data[4,:].reshape((32,32))\n",
    "imgC = gray_data[7,:].reshape((32,32))\n",
    "\n",
    "plt.imshow(np.hstack((imgA, imgB, imgC)), cmap='gray', vmin=0, vmax=255)"
   ]
  },
  {
   "cell_type": "code",
   "execution_count": 61,
   "id": "38551f31",
   "metadata": {},
   "outputs": [
    {
     "data": {
      "text/plain": [
       "<matplotlib.image.AxesImage at 0x7f1eafa05250>"
      ]
     },
     "execution_count": 61,
     "metadata": {},
     "output_type": "execute_result"
    },
    {
     "data": {
      "image/png": "[encoded data removed]",
      "text/plain": [
       "<Figure size 432x288 with 1 Axes>"
      ]
     },
     "metadata": {
      "needs_background": "light"
     },
     "output_type": "display_data"
    }
   ],
   "source": [
    "def black_white(img):\n",
    "    i = np.copy(img)\n",
    "    return 2 * np.round(i/255, 0) - 1\n",
    "\n",
    "imgA_bw = black_white(imgA)\n",
    "imgB_bw = black_white(imgB)\n",
    "imgC_bw = black_white(imgC)\n",
    "\n",
    "plt.imshow(np.hstack((imgA_bw, imgB_bw, imgC_bw)), cmap='gray', vmin=-1, vmax=1)"
   ]
  },
  {
   "cell_type": "code",
   "execution_count": 231,
   "id": "bf9220cd",
   "metadata": {},
   "outputs": [
    {
     "data": {
      "text/plain": [
       "<matplotlib.image.AxesImage at 0x7f1e9edec6d0>"
      ]
     },
     "execution_count": 231,
     "metadata": {},
     "output_type": "execute_result"
    },
    {
     "data": {
      "image/png": "[encoded data removed]",
      "text/plain": [
       "<Figure size 432x288 with 1 Axes>"
      ]
     },
     "metadata": {
      "needs_background": "light"
     },
     "output_type": "display_data"
    }
   ],
   "source": [
    "def generate_random_binary_state(size):\n",
    "    return 2 * np.random.randint(0, 2, (size), dtype=int) - 1\n",
    "\n",
    "class HopfieldBinary():\n",
    "    def __init__(self, state_size):\n",
    "        self.state_size = state_size\n",
    "        self.num_states = 0\n",
    "    \n",
    "        self.T = np.zeros((self.state_size, self.state_size), dtype=int)\n",
    "        self.sigma = generate_random_binary_state(self.state_size)\n",
    "        \n",
    "    def add_pattern(self, pattern):\n",
    "        p = pattern.reshape(pattern.shape[0], 1)\n",
    "        pT = pattern.reshape(1, pattern.shape[0])\n",
    "        \n",
    "        self.T += np.multiply(p, pT).astype(int)\n",
    "        #print(f\"Added pattern {pattern.astype(int)}\")\n",
    "    \n",
    "    def update(self):\n",
    "        update_order = np.arange(self.state_size)\n",
    "        np.random.shuffle(update_order)\n",
    "\n",
    "        for i in update_order:\n",
    "            tmp = np.sum(np.dot(self.T[:,i], self.sigma[:]))\n",
    "            self.sigma[i] = 2 * (tmp >= 0).astype(int) - 1\n",
    "            \n",
    "        return self.sigma\n",
    "            \n",
    "    def set_state(self, state):\n",
    "        self.sigma = state\n",
    "\n",
    "h = HopfieldBinary(1024)\n",
    "h.add_pattern(imgA_bw.reshape((1024)))\n",
    "h.add_pattern(imgB_bw.reshape((1024)))\n",
    "h.add_pattern(imgC_bw.reshape((1024)))\n",
    "\n",
    "test_state = generate_random_binary_state(h.state_size)\n",
    "\n",
    "test_state = np.ones(1024)\n",
    "test_state[:512] = imgC_bw.reshape((1024))[:512]\n",
    "\n",
    "states = [np.copy(test_state).reshape((32,32))]\n",
    "for _ in range(2):\n",
    "    states.append(np.copy(h.update()).reshape((32,32)))\n",
    "    \n",
    "plt.imshow(np.hstack(states), cmap='gray', vmin=-1, vmax=1)"
   ]
  },
  {
   "cell_type": "code",
   "execution_count": 62,
   "id": "16250cfc",
   "metadata": {},
   "outputs": [
    {
     "name": "stdout",
     "output_type": "stream",
     "text": [
      "[[2 2 2 0 2]\n",
      " [2 2 2 0 2]\n",
      " [2 2 2 0 2]\n",
      " [0 0 0 2 0]\n",
      " [2 2 2 0 2]]\n",
      "[-1  1  1 -1  1]\n",
      "------------------------------------------------------------\n",
      "[-1  1  1 -1  1]\n",
      "[-1 -1 -1  1 -1]\n"
     ]
    }
   ],
   "source": [
    "class HopfieldBinaryCubed(HopfieldBinary):\n",
    "    \n",
    "    "
   ]
  }
 ],
 "metadata": {
  "kernelspec": {
   "display_name": "Python 3 (ipykernel)",
   "language": "python",
   "name": "python3"
  },
  "language_info": {
   "codemirror_mode": {
    "name": "ipython",
    "version": 3
   },
   "file_extension": ".py",
   "mimetype": "text/x-python",
   "name": "python",
   "nbconvert_exporter": "python",
   "pygments_lexer": "ipython3",
   "version": "3.7.12"
  }
 },
 "nbformat": 4,
 "nbformat_minor": 5
}
